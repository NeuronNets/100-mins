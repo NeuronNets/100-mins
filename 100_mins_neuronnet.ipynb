{
  "nbformat": 4,
  "nbformat_minor": 0,
  "metadata": {
    "colab": {
      "provenance": []
    },
    "kernelspec": {
      "name": "python3",
      "display_name": "Python 3"
    },
    "language_info": {
      "name": "python"
    }
  },
  "cells": [
    {
      "cell_type": "markdown",
      "source": [
        "Importing the libraries that we want"
      ],
      "metadata": {
        "id": "UQz9CJRq2ONJ"
      }
    },
    {
      "cell_type": "code",
      "source": [
        "import requests\n",
        "import pandas as pd\n",
        "import numpy as np\n",
        "import seaborn as sns\n",
        "import matplotlib.pyplot as plt\n",
        "from sklearn.preprocessing import OneHotEncoder, LabelEncoder, StandardScaler\n",
        "from sklearn.impute import SimpleImputer\n",
        "from sklearn.model_selection import train_test_split\n",
        "from sklearn.linear_model import LinearRegression\n",
        "from sklearn.metrics import mean_absolute_error, mean_squared_error, r2_score\n",
        "from sklearn.model_selection import GridSearchCV\n",
        "from sklearn.pipeline import Pipeline\n",
        "from sklearn.compose import ColumnTransformer\n"
      ],
      "metadata": {
        "id": "y0pK_TsiwuBW"
      },
      "execution_count": 42,
      "outputs": []
    },
    {
      "cell_type": "code",
      "source": [
        "df = pd.read_csv(\"/content/2024 18031 - Mutual_fund Data - 2024 18031 - Mutual_fund Data.csv\")\n",
        "df.head()"
      ],
      "metadata": {
        "colab": {
          "base_uri": "https://localhost:8080/",
          "height": 414
        },
        "id": "Zxky6Dkdy4o9",
        "outputId": "b257ae3b-6bd1-4b1b-b32c-b62ea6bd22db"
      },
      "execution_count": 98,
      "outputs": [
        {
          "output_type": "execute_result",
          "data": {
            "text/plain": [
              "                             AMC                                Fund Name  \\\n",
              "0  mahindra manulife mutual fund  Mahindra Manulife Large & Mid Cap Reg-G   \n",
              "1  mahindra manulife mutual fund      Mahindra Manulife Consumption Reg-G   \n",
              "2  mahindra manulife mutual fund          Mahindra Manulife Mid Cap Reg-G   \n",
              "3  mahindra manulife mutual fund        Mahindra Manulife Small Cap Reg-G   \n",
              "4  mahindra manulife mutual fund        Mahindra Manulife Large Cap Reg-G   \n",
              "\n",
              "   Morning star rating  Value Research rating 1 month return    NAV  \\\n",
              "0                    3                      3          5.51%  28.32   \n",
              "1                    0                      3          7.25%  24.89   \n",
              "2                    4                      4          5.94%  35.11   \n",
              "3                    0                      0          8.37%  21.40   \n",
              "4                    4                      3          4.06%  23.69   \n",
              "\n",
              "  1 Year return 3 Year Return Minimum investment        Fund Manager  \\\n",
              "0        37.79%        20.29%           Rs.500.0  Abhinav Khandelwal   \n",
              "1        46.08%        21.93%           Rs.500.0  Abhinav Khandelwal   \n",
              "2        54.46%        27.48%           Rs.500.0  Abhinav Khandelwal   \n",
              "3        59.79%             0           Rs.500.0  Abhinav Khandelwal   \n",
              "4        32.07%        15.18%           Rs.500.0  Abhinav Khandelwal   \n",
              "\n",
              "          AUM Category       Risk  \n",
              "0  2569.63 cr   Equity       High  \n",
              "1   322.26 cr   Equity       High  \n",
              "2  3292.76 cr   Equity       High  \n",
              "3   5278.7 cr   Equity  Very High  \n",
              "4   577.72 cr   Equity  Very High  "
            ],
            "text/html": [
              "\n",
              "  <div id=\"df-4558ebda-b669-45a5-82c6-73d5cac95910\" class=\"colab-df-container\">\n",
              "    <div>\n",
              "<style scoped>\n",
              "    .dataframe tbody tr th:only-of-type {\n",
              "        vertical-align: middle;\n",
              "    }\n",
              "\n",
              "    .dataframe tbody tr th {\n",
              "        vertical-align: top;\n",
              "    }\n",
              "\n",
              "    .dataframe thead th {\n",
              "        text-align: right;\n",
              "    }\n",
              "</style>\n",
              "<table border=\"1\" class=\"dataframe\">\n",
              "  <thead>\n",
              "    <tr style=\"text-align: right;\">\n",
              "      <th></th>\n",
              "      <th>AMC</th>\n",
              "      <th>Fund Name</th>\n",
              "      <th>Morning star rating</th>\n",
              "      <th>Value Research rating</th>\n",
              "      <th>1 month return</th>\n",
              "      <th>NAV</th>\n",
              "      <th>1 Year return</th>\n",
              "      <th>3 Year Return</th>\n",
              "      <th>Minimum investment</th>\n",
              "      <th>Fund Manager</th>\n",
              "      <th>AUM</th>\n",
              "      <th>Category</th>\n",
              "      <th>Risk</th>\n",
              "    </tr>\n",
              "  </thead>\n",
              "  <tbody>\n",
              "    <tr>\n",
              "      <th>0</th>\n",
              "      <td>mahindra manulife mutual fund</td>\n",
              "      <td>Mahindra Manulife Large &amp; Mid Cap Reg-G</td>\n",
              "      <td>3</td>\n",
              "      <td>3</td>\n",
              "      <td>5.51%</td>\n",
              "      <td>28.32</td>\n",
              "      <td>37.79%</td>\n",
              "      <td>20.29%</td>\n",
              "      <td>Rs.500.0</td>\n",
              "      <td>Abhinav Khandelwal</td>\n",
              "      <td>2569.63 cr</td>\n",
              "      <td>Equity</td>\n",
              "      <td>High</td>\n",
              "    </tr>\n",
              "    <tr>\n",
              "      <th>1</th>\n",
              "      <td>mahindra manulife mutual fund</td>\n",
              "      <td>Mahindra Manulife Consumption Reg-G</td>\n",
              "      <td>0</td>\n",
              "      <td>3</td>\n",
              "      <td>7.25%</td>\n",
              "      <td>24.89</td>\n",
              "      <td>46.08%</td>\n",
              "      <td>21.93%</td>\n",
              "      <td>Rs.500.0</td>\n",
              "      <td>Abhinav Khandelwal</td>\n",
              "      <td>322.26 cr</td>\n",
              "      <td>Equity</td>\n",
              "      <td>High</td>\n",
              "    </tr>\n",
              "    <tr>\n",
              "      <th>2</th>\n",
              "      <td>mahindra manulife mutual fund</td>\n",
              "      <td>Mahindra Manulife Mid Cap Reg-G</td>\n",
              "      <td>4</td>\n",
              "      <td>4</td>\n",
              "      <td>5.94%</td>\n",
              "      <td>35.11</td>\n",
              "      <td>54.46%</td>\n",
              "      <td>27.48%</td>\n",
              "      <td>Rs.500.0</td>\n",
              "      <td>Abhinav Khandelwal</td>\n",
              "      <td>3292.76 cr</td>\n",
              "      <td>Equity</td>\n",
              "      <td>High</td>\n",
              "    </tr>\n",
              "    <tr>\n",
              "      <th>3</th>\n",
              "      <td>mahindra manulife mutual fund</td>\n",
              "      <td>Mahindra Manulife Small Cap Reg-G</td>\n",
              "      <td>0</td>\n",
              "      <td>0</td>\n",
              "      <td>8.37%</td>\n",
              "      <td>21.40</td>\n",
              "      <td>59.79%</td>\n",
              "      <td>0</td>\n",
              "      <td>Rs.500.0</td>\n",
              "      <td>Abhinav Khandelwal</td>\n",
              "      <td>5278.7 cr</td>\n",
              "      <td>Equity</td>\n",
              "      <td>Very High</td>\n",
              "    </tr>\n",
              "    <tr>\n",
              "      <th>4</th>\n",
              "      <td>mahindra manulife mutual fund</td>\n",
              "      <td>Mahindra Manulife Large Cap Reg-G</td>\n",
              "      <td>4</td>\n",
              "      <td>3</td>\n",
              "      <td>4.06%</td>\n",
              "      <td>23.69</td>\n",
              "      <td>32.07%</td>\n",
              "      <td>15.18%</td>\n",
              "      <td>Rs.500.0</td>\n",
              "      <td>Abhinav Khandelwal</td>\n",
              "      <td>577.72 cr</td>\n",
              "      <td>Equity</td>\n",
              "      <td>Very High</td>\n",
              "    </tr>\n",
              "  </tbody>\n",
              "</table>\n",
              "</div>\n",
              "    <div class=\"colab-df-buttons\">\n",
              "\n",
              "  <div class=\"colab-df-container\">\n",
              "    <button class=\"colab-df-convert\" onclick=\"convertToInteractive('df-4558ebda-b669-45a5-82c6-73d5cac95910')\"\n",
              "            title=\"Convert this dataframe to an interactive table.\"\n",
              "            style=\"display:none;\">\n",
              "\n",
              "  <svg xmlns=\"http://www.w3.org/2000/svg\" height=\"24px\" viewBox=\"0 -960 960 960\">\n",
              "    <path d=\"M120-120v-720h720v720H120Zm60-500h600v-160H180v160Zm220 220h160v-160H400v160Zm0 220h160v-160H400v160ZM180-400h160v-160H180v160Zm440 0h160v-160H620v160ZM180-180h160v-160H180v160Zm440 0h160v-160H620v160Z\"/>\n",
              "  </svg>\n",
              "    </button>\n",
              "\n",
              "  <style>\n",
              "    .colab-df-container {\n",
              "      display:flex;\n",
              "      gap: 12px;\n",
              "    }\n",
              "\n",
              "    .colab-df-convert {\n",
              "      background-color: #E8F0FE;\n",
              "      border: none;\n",
              "      border-radius: 50%;\n",
              "      cursor: pointer;\n",
              "      display: none;\n",
              "      fill: #1967D2;\n",
              "      height: 32px;\n",
              "      padding: 0 0 0 0;\n",
              "      width: 32px;\n",
              "    }\n",
              "\n",
              "    .colab-df-convert:hover {\n",
              "      background-color: #E2EBFA;\n",
              "      box-shadow: 0px 1px 2px rgba(60, 64, 67, 0.3), 0px 1px 3px 1px rgba(60, 64, 67, 0.15);\n",
              "      fill: #174EA6;\n",
              "    }\n",
              "\n",
              "    .colab-df-buttons div {\n",
              "      margin-bottom: 4px;\n",
              "    }\n",
              "\n",
              "    [theme=dark] .colab-df-convert {\n",
              "      background-color: #3B4455;\n",
              "      fill: #D2E3FC;\n",
              "    }\n",
              "\n",
              "    [theme=dark] .colab-df-convert:hover {\n",
              "      background-color: #434B5C;\n",
              "      box-shadow: 0px 1px 3px 1px rgba(0, 0, 0, 0.15);\n",
              "      filter: drop-shadow(0px 1px 2px rgba(0, 0, 0, 0.3));\n",
              "      fill: #FFFFFF;\n",
              "    }\n",
              "  </style>\n",
              "\n",
              "    <script>\n",
              "      const buttonEl =\n",
              "        document.querySelector('#df-4558ebda-b669-45a5-82c6-73d5cac95910 button.colab-df-convert');\n",
              "      buttonEl.style.display =\n",
              "        google.colab.kernel.accessAllowed ? 'block' : 'none';\n",
              "\n",
              "      async function convertToInteractive(key) {\n",
              "        const element = document.querySelector('#df-4558ebda-b669-45a5-82c6-73d5cac95910');\n",
              "        const dataTable =\n",
              "          await google.colab.kernel.invokeFunction('convertToInteractive',\n",
              "                                                    [key], {});\n",
              "        if (!dataTable) return;\n",
              "\n",
              "        const docLinkHtml = 'Like what you see? Visit the ' +\n",
              "          '<a target=\"_blank\" href=https://colab.research.google.com/notebooks/data_table.ipynb>data table notebook</a>'\n",
              "          + ' to learn more about interactive tables.';\n",
              "        element.innerHTML = '';\n",
              "        dataTable['output_type'] = 'display_data';\n",
              "        await google.colab.output.renderOutput(dataTable, element);\n",
              "        const docLink = document.createElement('div');\n",
              "        docLink.innerHTML = docLinkHtml;\n",
              "        element.appendChild(docLink);\n",
              "      }\n",
              "    </script>\n",
              "  </div>\n",
              "\n",
              "\n",
              "<div id=\"df-1382e62d-c5e3-4d30-b17e-9454ec0e485e\">\n",
              "  <button class=\"colab-df-quickchart\" onclick=\"quickchart('df-1382e62d-c5e3-4d30-b17e-9454ec0e485e')\"\n",
              "            title=\"Suggest charts\"\n",
              "            style=\"display:none;\">\n",
              "\n",
              "<svg xmlns=\"http://www.w3.org/2000/svg\" height=\"24px\"viewBox=\"0 0 24 24\"\n",
              "     width=\"24px\">\n",
              "    <g>\n",
              "        <path d=\"M19 3H5c-1.1 0-2 .9-2 2v14c0 1.1.9 2 2 2h14c1.1 0 2-.9 2-2V5c0-1.1-.9-2-2-2zM9 17H7v-7h2v7zm4 0h-2V7h2v10zm4 0h-2v-4h2v4z\"/>\n",
              "    </g>\n",
              "</svg>\n",
              "  </button>\n",
              "\n",
              "<style>\n",
              "  .colab-df-quickchart {\n",
              "      --bg-color: #E8F0FE;\n",
              "      --fill-color: #1967D2;\n",
              "      --hover-bg-color: #E2EBFA;\n",
              "      --hover-fill-color: #174EA6;\n",
              "      --disabled-fill-color: #AAA;\n",
              "      --disabled-bg-color: #DDD;\n",
              "  }\n",
              "\n",
              "  [theme=dark] .colab-df-quickchart {\n",
              "      --bg-color: #3B4455;\n",
              "      --fill-color: #D2E3FC;\n",
              "      --hover-bg-color: #434B5C;\n",
              "      --hover-fill-color: #FFFFFF;\n",
              "      --disabled-bg-color: #3B4455;\n",
              "      --disabled-fill-color: #666;\n",
              "  }\n",
              "\n",
              "  .colab-df-quickchart {\n",
              "    background-color: var(--bg-color);\n",
              "    border: none;\n",
              "    border-radius: 50%;\n",
              "    cursor: pointer;\n",
              "    display: none;\n",
              "    fill: var(--fill-color);\n",
              "    height: 32px;\n",
              "    padding: 0;\n",
              "    width: 32px;\n",
              "  }\n",
              "\n",
              "  .colab-df-quickchart:hover {\n",
              "    background-color: var(--hover-bg-color);\n",
              "    box-shadow: 0 1px 2px rgba(60, 64, 67, 0.3), 0 1px 3px 1px rgba(60, 64, 67, 0.15);\n",
              "    fill: var(--button-hover-fill-color);\n",
              "  }\n",
              "\n",
              "  .colab-df-quickchart-complete:disabled,\n",
              "  .colab-df-quickchart-complete:disabled:hover {\n",
              "    background-color: var(--disabled-bg-color);\n",
              "    fill: var(--disabled-fill-color);\n",
              "    box-shadow: none;\n",
              "  }\n",
              "\n",
              "  .colab-df-spinner {\n",
              "    border: 2px solid var(--fill-color);\n",
              "    border-color: transparent;\n",
              "    border-bottom-color: var(--fill-color);\n",
              "    animation:\n",
              "      spin 1s steps(1) infinite;\n",
              "  }\n",
              "\n",
              "  @keyframes spin {\n",
              "    0% {\n",
              "      border-color: transparent;\n",
              "      border-bottom-color: var(--fill-color);\n",
              "      border-left-color: var(--fill-color);\n",
              "    }\n",
              "    20% {\n",
              "      border-color: transparent;\n",
              "      border-left-color: var(--fill-color);\n",
              "      border-top-color: var(--fill-color);\n",
              "    }\n",
              "    30% {\n",
              "      border-color: transparent;\n",
              "      border-left-color: var(--fill-color);\n",
              "      border-top-color: var(--fill-color);\n",
              "      border-right-color: var(--fill-color);\n",
              "    }\n",
              "    40% {\n",
              "      border-color: transparent;\n",
              "      border-right-color: var(--fill-color);\n",
              "      border-top-color: var(--fill-color);\n",
              "    }\n",
              "    60% {\n",
              "      border-color: transparent;\n",
              "      border-right-color: var(--fill-color);\n",
              "    }\n",
              "    80% {\n",
              "      border-color: transparent;\n",
              "      border-right-color: var(--fill-color);\n",
              "      border-bottom-color: var(--fill-color);\n",
              "    }\n",
              "    90% {\n",
              "      border-color: transparent;\n",
              "      border-bottom-color: var(--fill-color);\n",
              "    }\n",
              "  }\n",
              "</style>\n",
              "\n",
              "  <script>\n",
              "    async function quickchart(key) {\n",
              "      const quickchartButtonEl =\n",
              "        document.querySelector('#' + key + ' button');\n",
              "      quickchartButtonEl.disabled = true;  // To prevent multiple clicks.\n",
              "      quickchartButtonEl.classList.add('colab-df-spinner');\n",
              "      try {\n",
              "        const charts = await google.colab.kernel.invokeFunction(\n",
              "            'suggestCharts', [key], {});\n",
              "      } catch (error) {\n",
              "        console.error('Error during call to suggestCharts:', error);\n",
              "      }\n",
              "      quickchartButtonEl.classList.remove('colab-df-spinner');\n",
              "      quickchartButtonEl.classList.add('colab-df-quickchart-complete');\n",
              "    }\n",
              "    (() => {\n",
              "      let quickchartButtonEl =\n",
              "        document.querySelector('#df-1382e62d-c5e3-4d30-b17e-9454ec0e485e button');\n",
              "      quickchartButtonEl.style.display =\n",
              "        google.colab.kernel.accessAllowed ? 'block' : 'none';\n",
              "    })();\n",
              "  </script>\n",
              "</div>\n",
              "\n",
              "    </div>\n",
              "  </div>\n"
            ],
            "application/vnd.google.colaboratory.intrinsic+json": {
              "type": "dataframe",
              "variable_name": "df",
              "summary": "{\n  \"name\": \"df\",\n  \"rows\": 1393,\n  \"fields\": [\n    {\n      \"column\": \"AMC\",\n      \"properties\": {\n        \"dtype\": \"category\",\n        \"num_unique_values\": 34,\n        \"samples\": [\n          \"hdfc mutual fund\",\n          \"icici prudential mutual fund\",\n          \"sundaram mutual fund\"\n        ],\n        \"semantic_type\": \"\",\n        \"description\": \"\"\n      }\n    },\n    {\n      \"column\": \"Fund Name\",\n      \"properties\": {\n        \"dtype\": \"string\",\n        \"num_unique_values\": 1391,\n        \"samples\": [\n          \"UTI Q Interval Fund Sr VI Reg-G\",\n          \"HDFC Overnight-G\",\n          \"Canara Robeco Multi Cap Reg-G\"\n        ],\n        \"semantic_type\": \"\",\n        \"description\": \"\"\n      }\n    },\n    {\n      \"column\": \"Morning star rating\",\n      \"properties\": {\n        \"dtype\": \"number\",\n        \"std\": 1,\n        \"min\": 0,\n        \"max\": 5,\n        \"num_unique_values\": 6,\n        \"samples\": [\n          3,\n          0,\n          1\n        ],\n        \"semantic_type\": \"\",\n        \"description\": \"\"\n      }\n    },\n    {\n      \"column\": \"Value Research rating\",\n      \"properties\": {\n        \"dtype\": \"number\",\n        \"std\": 1,\n        \"min\": 0,\n        \"max\": 5,\n        \"num_unique_values\": 6,\n        \"samples\": [\n          3,\n          4,\n          1\n        ],\n        \"semantic_type\": \"\",\n        \"description\": \"\"\n      }\n    },\n    {\n      \"column\": \"1 month return\",\n      \"properties\": {\n        \"dtype\": \"category\",\n        \"num_unique_values\": 564,\n        \"samples\": [\n          \"10.25%\",\n          \"3.71%\",\n          \"7.29%\"\n        ],\n        \"semantic_type\": \"\",\n        \"description\": \"\"\n      }\n    },\n    {\n      \"column\": \"NAV\",\n      \"properties\": {\n        \"dtype\": \"number\",\n        \"std\": 856.9373698054583,\n        \"min\": 0.0,\n        \"max\": 6706.89,\n        \"num_unique_values\": 1212,\n        \"samples\": [\n          950.53,\n          16.96,\n          14.41\n        ],\n        \"semantic_type\": \"\",\n        \"description\": \"\"\n      }\n    },\n    {\n      \"column\": \"1 Year return\",\n      \"properties\": {\n        \"dtype\": \"string\",\n        \"num_unique_values\": 910,\n        \"samples\": [\n          \"58.96%\",\n          \"7.21%\",\n          \"45.05%\"\n        ],\n        \"semantic_type\": \"\",\n        \"description\": \"\"\n      }\n    },\n    {\n      \"column\": \"3 Year Return\",\n      \"properties\": {\n        \"dtype\": \"category\",\n        \"num_unique_values\": 644,\n        \"samples\": [\n          \"16.74%\",\n          \"4.95%\",\n          \"25.69%\"\n        ],\n        \"semantic_type\": \"\",\n        \"description\": \"\"\n      }\n    },\n    {\n      \"column\": \"Minimum investment\",\n      \"properties\": {\n        \"dtype\": \"category\",\n        \"num_unique_values\": 15,\n        \"samples\": [\n          \"Rs.1.0E7\",\n          \"Rs.50000.0\",\n          \"Rs.500.0\"\n        ],\n        \"semantic_type\": \"\",\n        \"description\": \"\"\n      }\n    },\n    {\n      \"column\": \"Fund Manager\",\n      \"properties\": {\n        \"dtype\": \"category\",\n        \"num_unique_values\": 276,\n        \"samples\": [\n          \"Anil Ghelani\",\n          \"Mahesh A Chhabria\",\n          \"Ritesh Patel\"\n        ],\n        \"semantic_type\": \"\",\n        \"description\": \"\"\n      }\n    },\n    {\n      \"column\": \"AUM\",\n      \"properties\": {\n        \"dtype\": \"string\",\n        \"num_unique_values\": 1291,\n        \"samples\": [\n          \"2197.03 cr\",\n          \"7.03 cr\",\n          \"599.47 cr\"\n        ],\n        \"semantic_type\": \"\",\n        \"description\": \"\"\n      }\n    },\n    {\n      \"column\": \"Category\",\n      \"properties\": {\n        \"dtype\": \"category\",\n        \"num_unique_values\": 4,\n        \"samples\": [\n          \"Hybrid\",\n          \"Debt\",\n          \"Equity\"\n        ],\n        \"semantic_type\": \"\",\n        \"description\": \"\"\n      }\n    },\n    {\n      \"column\": \"Risk\",\n      \"properties\": {\n        \"dtype\": \"category\",\n        \"num_unique_values\": 8,\n        \"samples\": [\n          \"Very High\",\n          \"Low\",\n          \"High\"\n        ],\n        \"semantic_type\": \"\",\n        \"description\": \"\"\n      }\n    }\n  ]\n}"
            }
          },
          "metadata": {},
          "execution_count": 98
        }
      ]
    },
    {
      "cell_type": "markdown",
      "source": [
        "## Understanding the data"
      ],
      "metadata": {
        "id": "Cd2gC8-12VNX"
      }
    },
    {
      "cell_type": "code",
      "source": [
        "df.columns"
      ],
      "metadata": {
        "colab": {
          "base_uri": "https://localhost:8080/"
        },
        "id": "WpAleTHLysH2",
        "outputId": "dfb8c9c4-52d2-473a-86db-5867b96338d7"
      },
      "execution_count": 22,
      "outputs": [
        {
          "output_type": "execute_result",
          "data": {
            "text/plain": [
              "Index(['AMC', 'Fund Name', 'Morning star rating', 'Value Research rating',\n",
              "       '1 month return', 'NAV', '1 Year return', '3 Year Return',\n",
              "       'Minimum investment', 'Fund Manager', 'AUM', 'Category', 'Risk'],\n",
              "      dtype='object')"
            ]
          },
          "metadata": {},
          "execution_count": 22
        }
      ]
    },
    {
      "cell_type": "markdown",
      "source": [
        "we can drop teh AUM as it matters the least"
      ],
      "metadata": {
        "id": "LpaZr4GX07c7"
      }
    },
    {
      "cell_type": "markdown",
      "source": [
        "how many rows we are dealing with\n"
      ],
      "metadata": {
        "id": "-PHXp1GS03Xz"
      }
    },
    {
      "cell_type": "code",
      "source": [
        "print(df.size)\n",
        "print(df.shape)"
      ],
      "metadata": {
        "colab": {
          "base_uri": "https://localhost:8080/"
        },
        "id": "KZwv7VwdzGY5",
        "outputId": "d69bdf48-59e7-4e59-988e-a9d7042e8174"
      },
      "execution_count": 23,
      "outputs": [
        {
          "output_type": "stream",
          "name": "stdout",
          "text": [
            "18109\n",
            "(1393, 13)\n"
          ]
        }
      ]
    },
    {
      "cell_type": "markdown",
      "source": [
        "this just describes our dataset\n"
      ],
      "metadata": {
        "id": "HJJoK1UD00bd"
      }
    },
    {
      "cell_type": "code",
      "source": [
        "print(df.describe)"
      ],
      "metadata": {
        "colab": {
          "base_uri": "https://localhost:8080/"
        },
        "id": "6A5Y-uD6zyPb",
        "outputId": "cbee0d83-3669-44b5-b8d6-5df84e0b8662"
      },
      "execution_count": 24,
      "outputs": [
        {
          "output_type": "stream",
          "name": "stdout",
          "text": [
            "<bound method NDFrame.describe of                                 AMC                                Fund Name  \\\n",
            "0     mahindra manulife mutual fund  Mahindra Manulife Large & Mid Cap Reg-G   \n",
            "1     mahindra manulife mutual fund      Mahindra Manulife Consumption Reg-G   \n",
            "2     mahindra manulife mutual fund          Mahindra Manulife Mid Cap Reg-G   \n",
            "3     mahindra manulife mutual fund        Mahindra Manulife Small Cap Reg-G   \n",
            "4     mahindra manulife mutual fund        Mahindra Manulife Large Cap Reg-G   \n",
            "...                             ...                                      ...   \n",
            "1388                lic mutual fund                   LIC MF Multi Cap Reg-G   \n",
            "1389                lic mutual fund                       LIC MF Large Cap-G   \n",
            "1390                lic mutual fund             LIC MF Large & Mid Cap Reg-G   \n",
            "1391                lic mutual fund                  LIC MF Infrastructure-G   \n",
            "1392                lic mutual fund          LIC MF Balanced Advantage Reg-G   \n",
            "\n",
            "      Morning star rating  Value Research rating 1 month return    NAV  \\\n",
            "0                       3                      3          5.51%  28.32   \n",
            "1                       0                      3          7.25%  24.89   \n",
            "2                       4                      4          5.94%  35.11   \n",
            "3                       0                      0          8.37%  21.40   \n",
            "4                       4                      3          4.06%  23.69   \n",
            "...                   ...                    ...            ...    ...   \n",
            "1388                    0                      0          4.56%  17.43   \n",
            "1389                    2                      3          4.85%  57.66   \n",
            "1390                    2                      2          4.98%  40.39   \n",
            "1391                    3                      4          2.92%  51.91   \n",
            "1392                    0                      0          2.64%  13.28   \n",
            "\n",
            "     1 Year return 3 Year Return Minimum investment        Fund Manager  \\\n",
            "0           37.79%        20.29%           Rs.500.0  Abhinav Khandelwal   \n",
            "1           46.08%        21.93%           Rs.500.0  Abhinav Khandelwal   \n",
            "2           54.46%        27.48%           Rs.500.0  Abhinav Khandelwal   \n",
            "3           59.79%             0           Rs.500.0  Abhinav Khandelwal   \n",
            "4           32.07%        15.18%           Rs.500.0  Abhinav Khandelwal   \n",
            "...            ...           ...                ...                 ...   \n",
            "1388        48.89%             0          Rs.1000.0        Yogesh Patil   \n",
            "1389        31.34%        13.48%          Rs.1000.0        Yogesh Patil   \n",
            "1390        48.16%        19.01%          Rs.1000.0        Yogesh Patil   \n",
            "1391        76.07%        33.55%          Rs.1000.0        Yogesh Patil   \n",
            "1392        16.75%             0          Rs.1000.0        Yogesh Patil   \n",
            "\n",
            "             AUM Category             Risk  \n",
            "0     2569.63 cr   Equity             High  \n",
            "1      322.26 cr   Equity             High  \n",
            "2     3292.76 cr   Equity             High  \n",
            "3      5278.7 cr   Equity        Very High  \n",
            "4      577.72 cr   Equity        Very High  \n",
            "...          ...      ...              ...  \n",
            "1388   1369.6 cr   Equity        Very High  \n",
            "1389   1576.3 cr   Equity        Very High  \n",
            "1390  3220.66 cr   Equity             High  \n",
            "1391    725.1 cr   Equity        Very High  \n",
            "1392   872.09 cr   Hybrid  Moderately High  \n",
            "\n",
            "[1393 rows x 13 columns]>\n"
          ]
        }
      ]
    },
    {
      "cell_type": "markdown",
      "source": [
        "finding how many null values we have\n"
      ],
      "metadata": {
        "id": "uin8kBTH0w_Y"
      }
    },
    {
      "cell_type": "code",
      "source": [
        "df.isnull().sum()"
      ],
      "metadata": {
        "colab": {
          "base_uri": "https://localhost:8080/",
          "height": 491
        },
        "id": "LSvhLeXjz5eG",
        "outputId": "33fcb957-1a7f-402f-cd1e-4f31cb438365"
      },
      "execution_count": 25,
      "outputs": [
        {
          "output_type": "execute_result",
          "data": {
            "text/plain": [
              "AMC                       0\n",
              "Fund Name                 0\n",
              "Morning star rating       0\n",
              "Value Research rating     0\n",
              "1 month return            0\n",
              "NAV                       0\n",
              "1 Year return             0\n",
              "3 Year Return             0\n",
              "Minimum investment        0\n",
              "Fund Manager             39\n",
              "AUM                       0\n",
              "Category                  0\n",
              "Risk                      0\n",
              "dtype: int64"
            ],
            "text/html": [
              "<div>\n",
              "<style scoped>\n",
              "    .dataframe tbody tr th:only-of-type {\n",
              "        vertical-align: middle;\n",
              "    }\n",
              "\n",
              "    .dataframe tbody tr th {\n",
              "        vertical-align: top;\n",
              "    }\n",
              "\n",
              "    .dataframe thead th {\n",
              "        text-align: right;\n",
              "    }\n",
              "</style>\n",
              "<table border=\"1\" class=\"dataframe\">\n",
              "  <thead>\n",
              "    <tr style=\"text-align: right;\">\n",
              "      <th></th>\n",
              "      <th>0</th>\n",
              "    </tr>\n",
              "  </thead>\n",
              "  <tbody>\n",
              "    <tr>\n",
              "      <th>AMC</th>\n",
              "      <td>0</td>\n",
              "    </tr>\n",
              "    <tr>\n",
              "      <th>Fund Name</th>\n",
              "      <td>0</td>\n",
              "    </tr>\n",
              "    <tr>\n",
              "      <th>Morning star rating</th>\n",
              "      <td>0</td>\n",
              "    </tr>\n",
              "    <tr>\n",
              "      <th>Value Research rating</th>\n",
              "      <td>0</td>\n",
              "    </tr>\n",
              "    <tr>\n",
              "      <th>1 month return</th>\n",
              "      <td>0</td>\n",
              "    </tr>\n",
              "    <tr>\n",
              "      <th>NAV</th>\n",
              "      <td>0</td>\n",
              "    </tr>\n",
              "    <tr>\n",
              "      <th>1 Year return</th>\n",
              "      <td>0</td>\n",
              "    </tr>\n",
              "    <tr>\n",
              "      <th>3 Year Return</th>\n",
              "      <td>0</td>\n",
              "    </tr>\n",
              "    <tr>\n",
              "      <th>Minimum investment</th>\n",
              "      <td>0</td>\n",
              "    </tr>\n",
              "    <tr>\n",
              "      <th>Fund Manager</th>\n",
              "      <td>39</td>\n",
              "    </tr>\n",
              "    <tr>\n",
              "      <th>AUM</th>\n",
              "      <td>0</td>\n",
              "    </tr>\n",
              "    <tr>\n",
              "      <th>Category</th>\n",
              "      <td>0</td>\n",
              "    </tr>\n",
              "    <tr>\n",
              "      <th>Risk</th>\n",
              "      <td>0</td>\n",
              "    </tr>\n",
              "  </tbody>\n",
              "</table>\n",
              "</div><br><label><b>dtype:</b> int64</label>"
            ]
          },
          "metadata": {},
          "execution_count": 25
        }
      ]
    },
    {
      "cell_type": "markdown",
      "source": [
        "seeing the type of data we are dealing with\n"
      ],
      "metadata": {
        "id": "sh2xFpq90PnZ"
      }
    },
    {
      "cell_type": "markdown",
      "source": [
        "most of these have pecentage sign thats why they are showing as object even though they are numercial data type, we will remove the percentage sign to make them numerical\n",
        "and the minimum investment feature has RS...character in it"
      ],
      "metadata": {
        "id": "c6MH-nct1PQO"
      }
    },
    {
      "cell_type": "code",
      "source": [
        "df.dtypes"
      ],
      "metadata": {
        "colab": {
          "base_uri": "https://localhost:8080/",
          "height": 491
        },
        "id": "PffNsxNmz9CL",
        "outputId": "20894e23-af77-48e2-ab12-ca1f97d312a6"
      },
      "execution_count": 26,
      "outputs": [
        {
          "output_type": "execute_result",
          "data": {
            "text/plain": [
              "AMC                       object\n",
              "Fund Name                 object\n",
              "Morning star rating        int64\n",
              "Value Research rating      int64\n",
              "1 month return            object\n",
              "NAV                      float64\n",
              "1 Year return             object\n",
              "3 Year Return             object\n",
              "Minimum investment        object\n",
              "Fund Manager              object\n",
              "AUM                       object\n",
              "Category                  object\n",
              "Risk                      object\n",
              "dtype: object"
            ],
            "text/html": [
              "<div>\n",
              "<style scoped>\n",
              "    .dataframe tbody tr th:only-of-type {\n",
              "        vertical-align: middle;\n",
              "    }\n",
              "\n",
              "    .dataframe tbody tr th {\n",
              "        vertical-align: top;\n",
              "    }\n",
              "\n",
              "    .dataframe thead th {\n",
              "        text-align: right;\n",
              "    }\n",
              "</style>\n",
              "<table border=\"1\" class=\"dataframe\">\n",
              "  <thead>\n",
              "    <tr style=\"text-align: right;\">\n",
              "      <th></th>\n",
              "      <th>0</th>\n",
              "    </tr>\n",
              "  </thead>\n",
              "  <tbody>\n",
              "    <tr>\n",
              "      <th>AMC</th>\n",
              "      <td>object</td>\n",
              "    </tr>\n",
              "    <tr>\n",
              "      <th>Fund Name</th>\n",
              "      <td>object</td>\n",
              "    </tr>\n",
              "    <tr>\n",
              "      <th>Morning star rating</th>\n",
              "      <td>int64</td>\n",
              "    </tr>\n",
              "    <tr>\n",
              "      <th>Value Research rating</th>\n",
              "      <td>int64</td>\n",
              "    </tr>\n",
              "    <tr>\n",
              "      <th>1 month return</th>\n",
              "      <td>object</td>\n",
              "    </tr>\n",
              "    <tr>\n",
              "      <th>NAV</th>\n",
              "      <td>float64</td>\n",
              "    </tr>\n",
              "    <tr>\n",
              "      <th>1 Year return</th>\n",
              "      <td>object</td>\n",
              "    </tr>\n",
              "    <tr>\n",
              "      <th>3 Year Return</th>\n",
              "      <td>object</td>\n",
              "    </tr>\n",
              "    <tr>\n",
              "      <th>Minimum investment</th>\n",
              "      <td>object</td>\n",
              "    </tr>\n",
              "    <tr>\n",
              "      <th>Fund Manager</th>\n",
              "      <td>object</td>\n",
              "    </tr>\n",
              "    <tr>\n",
              "      <th>AUM</th>\n",
              "      <td>object</td>\n",
              "    </tr>\n",
              "    <tr>\n",
              "      <th>Category</th>\n",
              "      <td>object</td>\n",
              "    </tr>\n",
              "    <tr>\n",
              "      <th>Risk</th>\n",
              "      <td>object</td>\n",
              "    </tr>\n",
              "  </tbody>\n",
              "</table>\n",
              "</div><br><label><b>dtype:</b> object</label>"
            ]
          },
          "metadata": {},
          "execution_count": 26
        }
      ]
    },
    {
      "cell_type": "markdown",
      "source": [
        "now we want to know that if there are any duplicate  rows in our dataset and removing them if there are any"
      ],
      "metadata": {
        "id": "nZjYcnPe2tF7"
      }
    },
    {
      "cell_type": "code",
      "source": [
        "pattern1 = r'[%]'\n",
        "pattern2 = r'[Rs.]'\n",
        "df['1 month return'] = pd.to_numeric(df['1 month return'].str.replace(pattern1, '', regex=True), errors='coerce').astype('int')  # Convert to integer\n",
        "df['1 Year return'] = pd.to_numeric(df['1 Year return'].str.replace(pattern1, '', regex=True), errors='coerce').astype('int')  # Convert to integer\n",
        "df['3 Year Return'] = pd.to_numeric(df['3 Year Return'].str.replace(pattern1, '', regex=True), errors='coerce').astype('int')  # Convert to integer\n",
        "df['Minimum investment'] = pd.to_numeric(df['Minimum investment'].str.replace(pattern1, '', regex=True), errors='coerce').astype('float')  # Convert to integer"
      ],
      "metadata": {
        "id": "VHHDxAak1_dv"
      },
      "execution_count": 99,
      "outputs": []
    },
    {
      "cell_type": "markdown",
      "source": [
        "now we have converted the type of data to get the requires one"
      ],
      "metadata": {
        "id": "gOsvqkfc6a6p"
      }
    },
    {
      "cell_type": "code",
      "source": [
        "df.dtypes"
      ],
      "metadata": {
        "colab": {
          "base_uri": "https://localhost:8080/",
          "height": 491
        },
        "id": "kW1oKPkf5vn9",
        "outputId": "82f71245-2683-4e8d-911c-4c7e97528e12"
      },
      "execution_count": 31,
      "outputs": [
        {
          "output_type": "execute_result",
          "data": {
            "text/plain": [
              "AMC                       object\n",
              "Fund Name                 object\n",
              "Morning star rating        int64\n",
              "Value Research rating      int64\n",
              "1 month return             int64\n",
              "NAV                      float64\n",
              "1 Year return              int64\n",
              "3 Year Return              int64\n",
              "Minimum investment       float64\n",
              "Fund Manager              object\n",
              "AUM                       object\n",
              "Category                  object\n",
              "Risk                      object\n",
              "dtype: object"
            ],
            "text/html": [
              "<div>\n",
              "<style scoped>\n",
              "    .dataframe tbody tr th:only-of-type {\n",
              "        vertical-align: middle;\n",
              "    }\n",
              "\n",
              "    .dataframe tbody tr th {\n",
              "        vertical-align: top;\n",
              "    }\n",
              "\n",
              "    .dataframe thead th {\n",
              "        text-align: right;\n",
              "    }\n",
              "</style>\n",
              "<table border=\"1\" class=\"dataframe\">\n",
              "  <thead>\n",
              "    <tr style=\"text-align: right;\">\n",
              "      <th></th>\n",
              "      <th>0</th>\n",
              "    </tr>\n",
              "  </thead>\n",
              "  <tbody>\n",
              "    <tr>\n",
              "      <th>AMC</th>\n",
              "      <td>object</td>\n",
              "    </tr>\n",
              "    <tr>\n",
              "      <th>Fund Name</th>\n",
              "      <td>object</td>\n",
              "    </tr>\n",
              "    <tr>\n",
              "      <th>Morning star rating</th>\n",
              "      <td>int64</td>\n",
              "    </tr>\n",
              "    <tr>\n",
              "      <th>Value Research rating</th>\n",
              "      <td>int64</td>\n",
              "    </tr>\n",
              "    <tr>\n",
              "      <th>1 month return</th>\n",
              "      <td>int64</td>\n",
              "    </tr>\n",
              "    <tr>\n",
              "      <th>NAV</th>\n",
              "      <td>float64</td>\n",
              "    </tr>\n",
              "    <tr>\n",
              "      <th>1 Year return</th>\n",
              "      <td>int64</td>\n",
              "    </tr>\n",
              "    <tr>\n",
              "      <th>3 Year Return</th>\n",
              "      <td>int64</td>\n",
              "    </tr>\n",
              "    <tr>\n",
              "      <th>Minimum investment</th>\n",
              "      <td>float64</td>\n",
              "    </tr>\n",
              "    <tr>\n",
              "      <th>Fund Manager</th>\n",
              "      <td>object</td>\n",
              "    </tr>\n",
              "    <tr>\n",
              "      <th>AUM</th>\n",
              "      <td>object</td>\n",
              "    </tr>\n",
              "    <tr>\n",
              "      <th>Category</th>\n",
              "      <td>object</td>\n",
              "    </tr>\n",
              "    <tr>\n",
              "      <th>Risk</th>\n",
              "      <td>object</td>\n",
              "    </tr>\n",
              "  </tbody>\n",
              "</table>\n",
              "</div><br><label><b>dtype:</b> object</label>"
            ]
          },
          "metadata": {},
          "execution_count": 31
        }
      ]
    },
    {
      "cell_type": "markdown",
      "source": [
        "Dropping the AMC coloumn cause it might not be that useful in prediction"
      ],
      "metadata": {
        "id": "d0ZZVIWs8OEK"
      }
    },
    {
      "cell_type": "code",
      "source": [
        "df.drop('AMC', axis = 1, inplace=True)"
      ],
      "metadata": {
        "id": "gtUrVQtM8MIL"
      },
      "execution_count": 100,
      "outputs": []
    },
    {
      "cell_type": "code",
      "source": [
        "duplicate_rows = df[df.duplicated()]\n",
        "print(f\"no. of duplicates: {duplicate_rows.shape[0]}\")\n",
        "\n",
        "if duplicate_rows.shape[0] > 0:\n",
        "    print(\"Duplicates found:\")\n",
        "    print(duplicate_rows.head())\n",
        "else:\n",
        "    print(\"No duplicate rows found.\")\n"
      ],
      "metadata": {
        "colab": {
          "base_uri": "https://localhost:8080/"
        },
        "id": "0TvfHKQg0vdV",
        "outputId": "0db86b14-e009-4aa4-c614-3f830c75bf61"
      },
      "execution_count": 72,
      "outputs": [
        {
          "output_type": "stream",
          "name": "stdout",
          "text": [
            "no. of duplicates: 0\n",
            "No duplicate rows found.\n"
          ]
        }
      ]
    },
    {
      "cell_type": "code",
      "source": [
        "plt.figure(figsize=(8,6))\n",
        "sns.barplot(x='Morning star rating', y='1 Year return', data=df)\n",
        "plt.title('Morning Star Rating vs 1-Year Return')\n",
        "plt.xlabel('Morning Star Rating')\n",
        "plt.ylabel('1-Year Return (%)')\n",
        "plt.show()"
      ],
      "metadata": {
        "colab": {
          "base_uri": "https://localhost:8080/",
          "height": 564
        },
        "id": "CaLHMEmpHWvr",
        "outputId": "3ff9632b-cce7-4062-d305-1dbc947c1696"
      },
      "execution_count": 101,
      "outputs": [
        {
          "output_type": "display_data",
          "data": {
            "text/plain": [
              "<Figure size 800x600 with 1 Axes>"
            ],
            "image/png": "[encoded data removed]"
          },
          "metadata": {}
        }
      ]
    },
    {
      "cell_type": "code",
      "source": [
        "plt.figure(figsize=(8,6))\n",
        "sns.barplot(x='Value Research rating', y='1 Year return', data=df)\n",
        "plt.title('Value Research Rating vs 1-Year Return')\n",
        "plt.xlabel('Value Research Rating')\n",
        "plt.ylabel('1-Year Return (%)')\n",
        "plt.show()"
      ],
      "metadata": {
        "colab": {
          "base_uri": "https://localhost:8080/",
          "height": 564
        },
        "id": "FGf_3Q5KHd5z",
        "outputId": "df481c83-f398-40cf-a066-b5614870bfca"
      },
      "execution_count": 102,
      "outputs": [
        {
          "output_type": "display_data",
          "data": {
            "text/plain": [
              "<Figure size 800x600 with 1 Axes>"
            ],
            "image/png": "[encoded data removed]"
          },
          "metadata": {}
        }
      ]
    },
    {
      "cell_type": "markdown",
      "source": [
        "The Value Research rating shows a positive correlation with 1-year returns, with higher-rated funds (4 and 5) generally performing better. In contrast, the Morning Star rating doesn't show a clear pattern, as funds with a rating of 1 have the highest returns, while higher-rated funds (4 and 5) perform similarly to lower-rated ones. This suggests a stronger reliability of Value Research ratings in predicting fund performance"
      ],
      "metadata": {
        "id": "OKccGqTUHnlJ"
      }
    },
    {
      "cell_type": "code",
      "source": [
        "plt.figure(figsize=(10,6))\n",
        "sns.boxplot(data=df[['1 month return', '1 Year return', '3 Year Return']], palette='Set2')\n",
        "plt.title('Returns across different Timeframes')\n",
        "plt.xlabel('Time Period')\n",
        "plt.ylabel('Returns (%)')\n",
        "plt.show()"
      ],
      "metadata": {
        "colab": {
          "base_uri": "https://localhost:8080/",
          "height": 564
        },
        "id": "TKOLJwoIEkmE",
        "outputId": "08e7a3b3-546d-45e4-cdc1-105ca73d0b3b"
      },
      "execution_count": 73,
      "outputs": [
        {
          "output_type": "display_data",
          "data": {
            "text/plain": [
              "<Figure size 1000x600 with 1 Axes>"
            ],
            "image/png": "[encoded data removed]"
          },
          "metadata": {}
        }
      ]
    },
    {
      "cell_type": "code",
      "source": [
        "plt.figure(figsize=(10,6))\n",
        "sns.heatmap(df[['Morning star rating', 'Value Research rating', '1 month return', 'NAV', '1 Year return', '3 Year Return', ]].corr(), annot=True, cmap='coolwarm')\n",
        "plt.title('Correlation Heatmap of Numeric Features')\n",
        "plt.show()"
      ],
      "metadata": {
        "colab": {
          "base_uri": "https://localhost:8080/",
          "height": 682
        },
        "id": "Kh50Zx6XEn0x",
        "outputId": "f7b93b23-f342-41b4-8e92-6855f123e821"
      },
      "execution_count": 74,
      "outputs": [
        {
          "output_type": "display_data",
          "data": {
            "text/plain": [
              "<Figure size 1000x600 with 2 Axes>"
            ],
            "image/png": "[encoded data removed]"
          },
          "metadata": {}
        }
      ]
    },
    {
      "cell_type": "code",
      "source": [
        "plt.figure(figsize=(12,6))\n",
        "sns.barplot(x='Morning star rating', y='1 Year return', data=df, color='b', label='1 Year Return')\n",
        "sns.barplot(x='Morning star rating', y='3 Year Return', data=df, color='r', label='3 Year Return')\n",
        "plt.title('Morningstar Rating vs Returns')\n",
        "plt.xlabel('Morningstar Rating')\n",
        "plt.ylabel('Returns (%)')\n",
        "plt.legend()\n",
        "plt.show()"
      ],
      "metadata": {
        "colab": {
          "base_uri": "https://localhost:8080/",
          "height": 564
        },
        "id": "SauLRhV5GYGl",
        "outputId": "dde02df1-f27b-4819-e1b2-51451b493a6f"
      },
      "execution_count": 97,
      "outputs": [
        {
          "output_type": "display_data",
          "data": {
            "text/plain": [
              "<Figure size 1200x600 with 1 Axes>"
            ],
            "image/png": "[encoded data removed]"
          },
          "metadata": {}
        }
      ]
    },
    {
      "cell_type": "code",
      "source": [
        "numerical_feature=['NAV', '1 month return', '1 Year return', '3 Year Return', 'Minimum investment']\n",
        "categorical_columns = ['Fund Name', 'Fund Manager' , 'Category' ]\n",
        "\n",
        "numerical_pipe = Pipeline(steps=[\n",
        "    ('imputer', SimpleImputer(strategy='mean')),  # Impute missing numerical values with the mean\n",
        "    ('scaler', StandardScaler())\n",
        "])\n",
        "\n",
        "categorical_pipe = Pipeline(steps=[\n",
        "    ('inputer', SimpleImputer(strategy='most_frequent')),\n",
        "    ('ohe', OneHotEncoder(handle_unknown='ignore', sparse_output=False))\n",
        "])\n",
        "\n",
        "# Apply ColumnTransformer for the feature preprocessing\n",
        "transform = ColumnTransformer(transformers=[\n",
        "    ('numerical', numerical_pipe, numerical_feature),\n",
        "    ('categorical', categorical_pipe, categorical_columns)\n",
        "], remainder='passthrough')\n",
        "\n",
        "# Drop target from features\n",
        "X = df.drop(columns=[\"Risk\"])\n",
        "y = df[\"Risk\"]\n",
        "\n",
        "# Train-test split\n",
        "X_train, X_test, y_train, y_test = train_test_split(X, y, test_size=0.3, random_state=42)\n",
        "\n",
        "# Preprocess the target (if needed)\n",
        "target_pipe = LabelBinarizer()\n",
        "y_train = target_pipe.fit_transform(y_train).ravel()\n",
        "y_test = target_pipe.transform(y_test).ravel()\n",
        "# Fit and transform on training and test data\n",
        "X_train = transform.fit_transform(X_train)\n",
        "X_test = transform.transform(X_test)\n",
        "\n",
        "# Create the final pipeline for preprocessing and model training\n",
        "pipeline = Pipeline(steps=[\n",
        "    ('preprocessor', transform),\n",
        "    ('model', LinearRegression())\n",
        "])\n",
        "\n",
        "# Fit the pipeline\n",
        "pipeline.fit(X_train, y_train)"
      ],
      "metadata": {
        "id": "q3LKx9hzGdji"
      },
      "execution_count": null,
      "outputs": []
    },
    {
      "cell_type": "code",
      "source": [
        "df.columns"
      ],
      "metadata": {
        "colab": {
          "base_uri": "https://localhost:8080/"
        },
        "id": "UVqsYlZB_uu2",
        "outputId": "870590a5-3c2e-451e-e500-8294708f674a"
      },
      "execution_count": 55,
      "outputs": [
        {
          "output_type": "execute_result",
          "data": {
            "text/plain": [
              "Index(['Fund Name', 'Morning star rating', 'Value Research rating',\n",
              "       '1 month return', 'NAV', '1 Year return', '3 Year Return',\n",
              "       'Minimum investment', 'Fund Manager', 'AUM', 'Category', 'Risk'],\n",
              "      dtype='object')"
            ]
          },
          "metadata": {},
          "execution_count": 55
        }
      ]
    },
    {
      "cell_type": "code",
      "source": [],
      "metadata": {
        "id": "xXxXhboEF4UR"
      },
      "execution_count": null,
      "outputs": []
    }
  ]
}